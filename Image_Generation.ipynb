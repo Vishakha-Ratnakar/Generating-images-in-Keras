{
  "cells": [
    {
      "cell_type": "markdown",
      "metadata": {
        "id": "pK05z1XE2aI1"
      },
      "source": [
        "\n",
        "\n",
        "# Unsupervised/self-supervised learning and generating images in Keras\n",
        "\n",
        "\n",
        "\n",
        "\n"
      ]
    },
    {
      "cell_type": "markdown",
      "metadata": {
        "id": "_Nbw-FVv28mY"
      },
      "source": [
        "# **Section 1**\n",
        "\n",
        "Choose or create a dataset of images (no labels needed), briefly describe it, load it, and show 9 samples\n",
        "from the dataset in a 3x3 grid. Include a URL or download instructions for the dataset. Very briefly\n",
        "state a possible application where you might need to generate new samples from this dataset. "
      ]
    },
    {
      "cell_type": "markdown",
      "metadata": {
        "id": "hEjdQ16f3Y-z"
      },
      "source": [
        "***Dataset***\n",
        "\n",
        "Crypto punks are a set of 10,000 randomly generated characters, none of which are identical. Crypto punks are seen as a status symbol as well as an investment. This project is being developed on the Ethereum blockchain.It's an NFT project in which the punks are purchased by the buyer. Each punk is given a distinct rating. This dataset was downloaded from Kaggle.This collection contains 10,000 images, each of which is 24 × 24 pixels. We're only using 3000 images due to hardware limitations and GPU limitations. In this case, the model is trained with 2000 images, while the remaining 1000 are used for testing.\n",
        "\n",
        "***Downloading and creation steps of dataset:***\n",
        "\n",
        "Step 1: Go to link https://www.kaggle.com/datasets/tunguz/cryptopunks\n",
        "\n",
        "Step 2: On the right hand cornor there is black box with text Download. Click on download.\n",
        "\n",
        "Step 3: Onces the dataset is downloaded, extract the images\n",
        "\n",
        "Step 4: from the extracted images, we have selected only 3000 images dues to GPU limitation and save this images into different folder\n",
        "\n",
        "Step 5: upload this folder on google drive as we are using golab.\n",
        "\n",
        "***Application***\n",
        "\n",
        "The crypto punk's dataset is made up of dozens of attributes, which means there are a variety of designs to choose from: people, zombies, humans, aliens, and so on. We can also utilize an alternate to the list of attributes by considering that no two crypto punks are alike. Using a combination of current crypto punks, we can create new ones. Because each of the crypto punks is unique, the new group will be unique as well. The more unique the combination of distinct crypto punks is, the rarer new crypto punks will be generated.Punks with a blue background are not for sale, those with a red background are available, and those with a purple background are active in the bid. The newly created images may have different backgrounds, which can be used for different notations, such as \"already sold out,\" \"not yet sold out,\" etc.\n",
        "\n",
        "\n",
        "These crypto punks can be utilized in the animation sector, such as making cartoons, in addition to NFT. Even in this sector, existing images can be repurposed to create new images that play various character roles."
      ]
    },
    {
      "cell_type": "code",
      "execution_count": null,
      "metadata": {
        "colab": {
          "base_uri": "https://localhost:8080/"
        },
        "id": "40-Q_UeJ2apz",
        "outputId": "6f59872a-20b5-46d3-d08b-9a63ccc546df"
      },
      "outputs": [
        {
          "output_type": "stream",
          "name": "stdout",
          "text": [
            "Mounted at /content/gdrive\n"
          ]
        }
      ],
      "source": [
        "from google.colab import drive\n",
        "\n",
        "drive.mount('/content/gdrive')"
      ]
    },
    {
      "cell_type": "code",
      "execution_count": null,
      "metadata": {
        "id": "F5AjyTkXWM-9"
      },
      "outputs": [],
      "source": [
        "#------------------------------------------------------------------------------- \n",
        "#Loading requried Libraries\n",
        "#--------------------------------------------------------------------------------\n",
        "import pandas as pd\n",
        "import numpy as np\n",
        "import os\n",
        "import tensorflow as tf\n",
        "import cv2\n",
        "from tensorflow import keras\n",
        "from  matplotlib import pyplot as plt\n",
        "import matplotlib.image as mpimg\n",
        "%matplotlib inline\n",
        "from tensorflow.keras.models import Sequential, Model\n",
        "import random\n",
        "from keras.layers import Dense\n",
        "from keras import Input, Model\n",
        "import keras\n",
        "from keras import layers\n",
        "from tensorflow.keras.losses import mse\n",
        "from tensorflow.keras import backend as K\n",
        "\n",
        "Drive_path = \"/content/gdrive/MyDrive/crypto_punks\"\n",
        "\n"
      ]
    },
    {
      "cell_type": "code",
      "execution_count": null,
      "metadata": {
        "colab": {
          "base_uri": "https://localhost:8080/"
        },
        "id": "Ux9F120R3cXE",
        "outputId": "eb3ae671-4fee-422c-ae75-ea49ab487f42"
      },
      "outputs": [
        {
          "output_type": "stream",
          "name": "stdout",
          "text": [
            "3000\n",
            "(3000, 24, 24)\n"
          ]
        }
      ],
      "source": [
        "#-------------------------------------------------------------------------------\n",
        "# Load the dataset\n",
        "#-------------------------------------------------------------------------------\n",
        "\n",
        "Data = []\n",
        "\n",
        "def Load_Data():\n",
        "        for image in os.listdir(Drive_path):\n",
        "                Image = cv2.imread(os.path.join(Drive_path,image),cv2.IMREAD_GRAYSCALE) \n",
        "                Data.append(Image)\n",
        "Load_Data()\n",
        "\n",
        "print(len(Data))\n",
        "print(np.array(Data).shape)\n",
        "\n"
      ]
    },
    {
      "cell_type": "code",
      "execution_count": null,
      "metadata": {
        "colab": {
          "base_uri": "https://localhost:8080/"
        },
        "id": "IYDuxn7sUyrQ",
        "outputId": "40324bcb-f91a-4b18-d5c8-d290c6d6a5ed"
      },
      "outputs": [
        {
          "output_type": "stream",
          "name": "stdout",
          "text": [
            "shape of normalized training data: (2000, 24, 24)\n",
            "shape of normalized testing data: (1000, 24, 24)\n"
          ]
        }
      ],
      "source": [
        "#--------------------------------------------------------------------------------\n",
        "# Divide into the training and testing data\n",
        "#-------------------------------------------------------------------------------\n",
        "\n",
        "Data_length = len(Data)\n",
        "train_size = int(Data_length/3)\n",
        "\n",
        "test_from = Data_length - train_size\n",
        "\n",
        "x_train = Data[:(Data_length - train_size)]\n",
        "x_test = Data[test_from:]\n",
        "\n",
        "# normalize the training and testing data\n",
        "x_train_normalized = []\n",
        "for i in range(len(x_train)):\n",
        "    value = x_train[i].astype('float32')/255.0\n",
        "    x_train_normalized.append(value)\n",
        "    \n",
        "x_test_normalized = []\n",
        "for i in range(len(x_test)):\n",
        "    value = x_test[i].astype('float32')/255.0\n",
        "    x_test_normalized.append(value)\n",
        "  \n",
        "\n",
        "print(\"shape of normalized training data:\" ,np.array(x_train_normalized).shape)\n",
        "print(\"shape of normalized testing data:\", np.array(x_test_normalized).shape)\n",
        "\n",
        "\n",
        "x_train_normalized = np.reshape(x_train_normalized, (len(x_train_normalized), 24, 24, 1))\n",
        "x_test_normalized = np.reshape(x_test_normalized, (len(x_test_normalized), 24, 24, 1))\n",
        "\n",
        "x_train_normalized = x_train_normalized.reshape((len(x_train_normalized), np.prod(x_train_normalized.shape[1:])))\n",
        "x_test_normalized = x_test_normalized.reshape((len(x_test_normalized), np.prod(x_test_normalized.shape[1:])))\n"
      ]
    },
    {
      "cell_type": "code",
      "execution_count": null,
      "metadata": {
        "colab": {
          "base_uri": "https://localhost:8080/",
          "height": 575
        },
        "id": "iJb8jn4rGH8N",
        "outputId": "601fe50d-f6b3-42da-eafe-0e8c249fb23b"
      },
      "outputs": [
        {
          "output_type": "display_data",
          "data": {
            "text/plain": [
              "<Figure size 720x720 with 18 Axes>"
            ],
            "image/png": "[encoded data removed]"
          },
          "metadata": {
            "needs_background": "light"
          }
        }
      ],
      "source": [
        "#-------------------------------------------------------------------------------\n",
        "# Original train image \n",
        "#-------------------------------------------------------------------------------\n",
        "original = np.reshape(x_train_normalized, (len(x_train_normalized), 24, 24))\n",
        "\n",
        "from mpl_toolkits.axes_grid1 import ImageGrid\n",
        "\n",
        "fig = plt.figure(figsize=(10., 10.))\n",
        "grid = ImageGrid(fig, 111,  \n",
        "                 nrows_ncols=(3, 3),  # creates 3x3 grid of axes\n",
        "                 axes_pad=0.2,  \n",
        "                 )\n",
        "\n",
        "for ax, im in zip(grid, original[10:19]):\n",
        "    ax.imshow(im)\n",
        "    ax.axis(\"off\")\n",
        "\n",
        "plt.show()\n"
      ]
    },
    {
      "cell_type": "markdown",
      "metadata": {
        "id": "LUJ-dcKG9Wzk"
      },
      "source": [
        "# **Section 2**\n",
        "\n",
        "Using Keras, build an auto-encoder (AE), a variational auto-encoder (VAE), and a generative adversarial\n",
        "network (GAN), and train them on the data. "
      ]
    },
    {
      "cell_type": "markdown",
      "metadata": {
        "id": "RSqid5je9o0A"
      },
      "source": [
        "# ***Auto-Encoder***\n",
        "\n",
        "\n",
        "\n",
        "\n",
        "\n"
      ]
    },
    {
      "cell_type": "markdown",
      "metadata": {
        "id": "mriJRkrZ9Lp_"
      },
      "source": [
        "\n",
        "An auto encoder is a special type of unsupervised neural network. It is comprised of three components:\n",
        "1. Encoder: The encoder accepts the input and compresses it into a latent dimension.\n",
        "2. Bottleneck: It is the lower dimensional hindden layer where encoding is produced.\n",
        "3. Decoder: Decoder accepts this latent dimension image as input and reconstructs the original input image. \n",
        "\n",
        "We created a three-layer dense encoder. There are 128 neurons in the first, 64 neurons in the second, and 32 neurons in the third which acts like an common layer between encoder and decoder.The decoder has a first layer of 64 neurons, a second layer of 128 neurons, and a final layer that is dependent on the size of the input image. The activation function passed is \"LeakyReLU\", with optimizer = adam and loss = \"binary_crossentropy\".\n",
        "\n",
        "\n",
        "**Code Reference** : https://blog.keras.io/building-autoencoders-in-keras.html\n",
        "\n",
        "**Plot code reference** : https://machinelearningmastery.com/display-deep-learning-model-training-history-in-keras/"
      ]
    },
    {
      "cell_type": "code",
      "execution_count": null,
      "metadata": {
        "colab": {
          "base_uri": "https://localhost:8080/"
        },
        "id": "SSvvxTj1nAew",
        "outputId": "df0678b2-81b4-48a0-ccab-6ae8dca40c30"
      },
      "outputs": [
        {
          "output_type": "stream",
          "name": "stdout",
          "text": [
            "Model: \"model\"\n",
            "_________________________________________________________________\n",
            " Layer (type)                Output Shape              Param #   \n",
            "=================================================================\n",
            " input_1 (InputLayer)        [(None, 576)]             0         \n",
            "                                                                 \n",
            " dense (Dense)               (None, 128)               73856     \n",
            "                                                                 \n",
            " dense_1 (Dense)             (None, 64)                8256      \n",
            "                                                                 \n",
            " dense_2 (Dense)             (None, 32)                2080      \n",
            "                                                                 \n",
            " dense_3 (Dense)             (None, 64)                2112      \n",
            "                                                                 \n",
            " dense_4 (Dense)             (None, 128)               8320      \n",
            "                                                                 \n",
            " dense_5 (Dense)             (None, 576)               74304     \n",
            "                                                                 \n",
            "=================================================================\n",
            "Total params: 168,928\n",
            "Trainable params: 168,928\n",
            "Non-trainable params: 0\n",
            "_________________________________________________________________\n"
          ]
        }
      ],
      "source": [
        "#-------------------------------------------------------------------------------\n",
        "#Model creation\n",
        "#------------------------------------------------------------------------------\n",
        "import keras\n",
        "from keras import layers\n",
        "\n",
        "input_img = keras.Input(shape=(576))\n",
        "encoded = layers.Dense(128,  activation='LeakyReLU')(input_img)\n",
        "encoded= layers.Dense(64,  activation='LeakyReLU')(encoded)\n",
        "encoded = layers.Dense(32, activation='LeakyReLU')(encoded)\n",
        "\n",
        "decoded  = layers.Dense(64,  activation='LeakyReLU')(encoded)\n",
        "decoded= layers.Dense(128, activation='LeakyReLU')(decoded)\n",
        "decoded = Dense(576, activation='sigmoid')(decoded)\n",
        "\n",
        "optimizer = tf.keras.optimizers.Adam(learning_rate=1e-3)\n",
        "autoencoder = keras.Model(input_img, decoded)\n",
        "autoencoder.compile(optimizer='adam', loss='binary_crossentropy')\n",
        "autoencoder.summary()"
      ]
    },
    {
      "cell_type": "code",
      "execution_count": null,
      "metadata": {
        "id": "CulhT4pPYj8T"
      },
      "outputs": [],
      "source": [
        "#-------------------------------------------------------------------------------\n",
        "#fit the model\n",
        "#-------------------------------------------------------------------------------\n",
        "auto_Encoder = autoencoder.fit(x_train_normalized, x_train_normalized,\n",
        "epochs=500,\n",
        "batch_size=50,\n",
        "validation_data=(x_test_normalized, x_test_normalized))"
      ]
    },
    {
      "cell_type": "code",
      "execution_count": null,
      "metadata": {
        "colab": {
          "base_uri": "https://localhost:8080/",
          "height": 575
        },
        "id": "a3w46DDo-RTC",
        "outputId": "5dd6a360-0834-4537-81d4-2e351e8467b3"
      },
      "outputs": [
        {
          "output_type": "display_data",
          "data": {
            "text/plain": [
              "<Figure size 720x720 with 9 Axes>"
            ],
            "image/png": "[encoded data removed]"
          },
          "metadata": {
            "needs_background": "light"
          }
        }
      ],
      "source": [
        "#-------------------------------------------------------------------------------\n",
        "#reconstructed images of decoder on test data\n",
        "#-------------------------------------------------------------------------------\n",
        "\n",
        "x_test_model_autoencoder = autoencoder.predict(x_test_normalized)\n",
        "final_autoencoder = np.reshape(x_test_model_autoencoder, (len(x_test_model_autoencoder), 24, 24))\n",
        "\n",
        "plt.figure(figsize=(10,10)) # specifying the overall grid size\n",
        "\n",
        "for i in range(9):\n",
        "    plt.subplot(3,3,i+1)    # the number of images in the grid is 3*3 (9)\n",
        "    plt.imshow(final_autoencoder[i])\n",
        "    plt.axis(\"off\")\n",
        "\n",
        "plt.show()\n"
      ]
    },
    {
      "cell_type": "code",
      "execution_count": null,
      "metadata": {
        "colab": {
          "base_uri": "https://localhost:8080/",
          "height": 295
        },
        "id": "7f5YK25SrvsL",
        "outputId": "1a58f784-39f2-4e15-9a73-575f294308a6"
      },
      "outputs": [
        {
          "output_type": "display_data",
          "data": {
            "text/plain": [
              "<Figure size 432x288 with 1 Axes>"
            ],
            "image/png": "[encoded data removed]"
          },
          "metadata": {
            "needs_background": "light"
          }
        }
      ],
      "source": [
        "#-------------------------------------------------------------------------------\n",
        "#plot of loss training and testing\n",
        "#-------------------------------------------------------------------------------\n",
        "plt.plot(auto_Encoder.history['loss'])\n",
        "plt.plot(auto_Encoder.history['val_loss'])\n",
        "plt.title('Model Loss')\n",
        "plt.ylabel('Loss')\n",
        "plt.xlabel('epoch')\n",
        "plt.legend(['Train', 'Test'], loc='upper right')\n",
        "plt.show()"
      ]
    },
    {
      "cell_type": "markdown",
      "metadata": {
        "id": "7u45Xn5-ryj-"
      },
      "source": [
        "***Result***\n",
        "\n",
        "The autoencoder model is run for 500 epochs with a batch size of 50. This model took approximately 3 minutes to run. The images made are a bit grainy when compared to the source images, and there is a color variation in the image. We can also see that the training model's loss dramatically reduces from 0.37 to 0.15 before remaining nearly constant. Similarly, in the test model, the loss drops from 0.24 to 0.15 before remaining constant. This reduction occurs at epoch 1, and the value remains nearly constant for the remainder of the epoch."
      ]
    },
    {
      "cell_type": "markdown",
      "metadata": {
        "id": "RwYcFyFUMm7d"
      },
      "source": [
        "# ***Varitional Autoencoder***\n"
      ]
    },
    {
      "cell_type": "markdown",
      "metadata": {
        "id": "27G5RsgsMm-w"
      },
      "source": [
        "A variational Auto encoder consist of an encoder, decoder and a loss function. Its goal is to generate a realistic image when given a random vector generated from pre-defined distribution. \n",
        "\n",
        "Step 1: The encoder outputs two vectors, z_mean, and z_sigma, from an image (standard).\n",
        "\n",
        "Step 2: The z_mean and z_sigma vectors are then added and multiplied by a small value epsilon to produce a modified vector of equal size.\n",
        "\n",
        "Step 3: The decoder then reconstructs the image using this changed vector as input.\n",
        "\n",
        "The model created is the same as the autoencoder model. The encoder section has two layers (128 and 64) with one 24*24 input, while the decoder part has two layers 64 and 128 with a sample input layer of 32 and a final layer as the input size. \"LeakyReLU\" was supplied as the activation function, with optimizer = adam, and loss = \"binary_crossentropy.\"\n",
        "\n",
        "**Code** : Lecture Notes (Week 8)\n",
        "\n",
        "**Plot code reference** : https://machinelearningmastery.com/display-deep-learning-model-training-history-in-keras/"
      ]
    },
    {
      "cell_type": "code",
      "execution_count": null,
      "metadata": {
        "id": "u8Wu305QMw1F"
      },
      "outputs": [],
      "source": [
        "#-------------------------------------------------------------------------------\n",
        "# initailizing dimensions\n",
        "#-------------------------------------------------------------------------------\n",
        "\n",
        "original_dim = 576\n",
        "intermediate_dim = 128\n",
        "latent_dim = 32\n"
      ]
    },
    {
      "cell_type": "code",
      "execution_count": null,
      "metadata": {
        "id": "N-tdrUlJNfVP"
      },
      "outputs": [],
      "source": [
        "#-------------------------------------------------------------------------------\n",
        "#Sampling\n",
        "#-------------------------------------------------------------------------------\n",
        "class Sampling(layers.Layer):\n",
        " \n",
        "    def call(self, inputs):\n",
        "        # override the inherited .call(self, inputs) method\n",
        "        z_mean, z_log_var = inputs\n",
        "        epsilon = tf.keras.backend.random_normal(shape=tf.shape(z_mean)) # N(0, 1)\n",
        "        return z_mean + tf.exp(0.5 * z_log_var) * epsilon # N(mu, sigma)\n"
      ]
    },
    {
      "cell_type": "code",
      "execution_count": null,
      "metadata": {
        "colab": {
          "base_uri": "https://localhost:8080/"
        },
        "id": "VKYKkBaYNfYo",
        "outputId": "80217ada-b7cd-48ac-ae52-ffd02616fb48"
      },
      "outputs": [
        {
          "output_type": "stream",
          "name": "stdout",
          "text": [
            "Model: \"encoder\"\n",
            "__________________________________________________________________________________________________\n",
            " Layer (type)                   Output Shape         Param #     Connected to                     \n",
            "==================================================================================================\n",
            " encoder_input (InputLayer)     [(None, 576)]        0           []                               \n",
            "                                                                                                  \n",
            " dense_6 (Dense)                (None, 128)          73856       ['encoder_input[0][0]']          \n",
            "                                                                                                  \n",
            " dense_7 (Dense)                (None, 64)           8256        ['dense_6[0][0]']                \n",
            "                                                                                                  \n",
            " z_mean (Dense)                 (None, 32)           2080        ['dense_7[0][0]']                \n",
            "                                                                                                  \n",
            " z_log_var (Dense)              (None, 32)           2080        ['dense_7[0][0]']                \n",
            "                                                                                                  \n",
            " sampling (Sampling)            (None, 32)           0           ['z_mean[0][0]',                 \n",
            "                                                                  'z_log_var[0][0]']              \n",
            "                                                                                                  \n",
            "==================================================================================================\n",
            "Total params: 86,272\n",
            "Trainable params: 86,272\n",
            "Non-trainable params: 0\n",
            "__________________________________________________________________________________________________\n"
          ]
        }
      ],
      "source": [
        "#-------------------------------------------------------------------------------\n",
        "#Encoder Model\n",
        "#-------------------------------------------------------------------------------\n",
        "\n",
        "original_inputs = tf.keras.Input(shape=(original_dim,), name=\"encoder_input\")\n",
        "x = Dense(intermediate_dim, activation=\"LeakyReLU\")(original_inputs)\n",
        "x = Dense(64, activation=\"LeakyReLU\")(x)\n",
        "\n",
        "z_mean = Dense(latent_dim, name=\"z_mean\")(x)\n",
        "z_log_var = Dense(latent_dim, name=\"z_log_var\")(x)\n",
        "z = Sampling()((z_mean, z_log_var))\n",
        "encoder = tf.keras.Model(inputs=original_inputs, outputs=z, name=\"encoder\")\n",
        "\n",
        "encoder.summary()"
      ]
    },
    {
      "cell_type": "code",
      "execution_count": null,
      "metadata": {
        "colab": {
          "base_uri": "https://localhost:8080/"
        },
        "id": "ASY4-41XNfbs",
        "outputId": "f824df35-fcfc-4706-b486-3cbf9c0ed0cc"
      },
      "outputs": [
        {
          "output_type": "stream",
          "name": "stdout",
          "text": [
            "Model: \"decoder\"\n",
            "_________________________________________________________________\n",
            " Layer (type)                Output Shape              Param #   \n",
            "=================================================================\n",
            " z_sampling (InputLayer)     [(None, 32)]              0         \n",
            "                                                                 \n",
            " dense_8 (Dense)             (None, 64)                2112      \n",
            "                                                                 \n",
            " dense_9 (Dense)             (None, 128)               8320      \n",
            "                                                                 \n",
            " dense_10 (Dense)            (None, 576)               74304     \n",
            "                                                                 \n",
            "=================================================================\n",
            "Total params: 84,736\n",
            "Trainable params: 84,736\n",
            "Non-trainable params: 0\n",
            "_________________________________________________________________\n"
          ]
        }
      ],
      "source": [
        "#-------------------------------------------------------------------------------\n",
        "# Decoder Model\n",
        "#-------------------------------------------------------------------------------\n",
        "\n",
        "latent_inputs = tf.keras.Input(shape=(latent_dim,), name=\"z_sampling\")\n",
        "x = Dense(64, activation=\"LeakyReLU\")(latent_inputs)\n",
        "x = Dense(intermediate_dim, activation=\"LeakyReLU\")(x)\n",
        "\n",
        "outputs = Dense(original_dim, activation=\"sigmoid\")(x)\n",
        "decoder = tf.keras.Model(inputs=latent_inputs, outputs=outputs, name=\"decoder\")\n",
        "decoder.summary()"
      ]
    },
    {
      "cell_type": "code",
      "execution_count": null,
      "metadata": {
        "id": "eJWcMcpVEkag"
      },
      "outputs": [],
      "source": [
        "#-------------------------------------------------------------------------------\n",
        "# Define VAE model.\n",
        "#-------------------------------------------------------------------------------\n",
        "outputs = decoder(z)\n",
        "vae = tf.keras.Model(inputs=original_inputs, outputs=outputs, name=\"vae\")\n",
        "\n",
        "reconstruction_loss = mse(original_inputs, outputs) \n",
        "reconstruction_loss = original_dim * K.mean(reconstruction_loss)\n",
        "kl_loss = -0.5 * tf.reduce_mean(\n",
        "    z_log_var - tf.square(z_mean) - tf.exp(z_log_var) + 1)\n",
        "\n",
        "\n",
        "vae.add_loss(kl_loss)\n",
        "vae.add_metric(kl_loss, name='kl_loss', aggregation='mean')\n",
        "vae.add_loss(reconstruction_loss)\n",
        "vae.add_metric(reconstruction_loss, name='mse_loss', aggregation='mean')"
      ]
    },
    {
      "cell_type": "code",
      "execution_count": null,
      "metadata": {
        "id": "7Tv_tlNXEkrt"
      },
      "outputs": [],
      "source": [
        "#-------------------------------------------------------------------------------\n",
        "#Model call\n",
        "#-------------------------------------------------------------------------------\n",
        "\n",
        "optimizer = tf.keras.optimizers.Adam(learning_rate=1e-3)\n",
        "vae.compile(optimizer)\n",
        "\n",
        "VAE = vae.fit(x_train_normalized,x_train_normalized, \n",
        "              epochs=500, batch_size=40,\n",
        "              validation_data=(x_test_normalized, x_test_normalized))"
      ]
    },
    {
      "cell_type": "code",
      "execution_count": null,
      "metadata": {
        "colab": {
          "base_uri": "https://localhost:8080/",
          "height": 575
        },
        "id": "gKkW2oVxFNLZ",
        "outputId": "16d57283-4476-426a-a886-babc01532524"
      },
      "outputs": [
        {
          "output_type": "display_data",
          "data": {
            "text/plain": [
              "<Figure size 720x720 with 9 Axes>"
            ],
            "image/png": "[encoded data removed]"
          },
          "metadata": {
            "needs_background": "light"
          }
        }
      ],
      "source": [
        "#-------------------------------------------------------------------------------\n",
        "#reconstructed images\n",
        "#-------------------------------------------------------------------------------\n",
        "x_test_model_vae = vae.predict(x_test_normalized)\n",
        "\n",
        "final_vae = np.reshape(x_test_model_vae, (len(x_test_model_vae), 24, 24))\n",
        "\n",
        "plt.figure(figsize=(10,10)) # specifying the overall grid size\n",
        "\n",
        "for i in range(9):\n",
        "    plt.subplot(3,3,i+1)    # the number of images in the grid is 3*3 (9)\n",
        "    plt.imshow(final_vae[i])\n",
        "    plt.axis(\"off\")\n",
        "\n",
        "plt.show()\n",
        "\n",
        "\n"
      ]
    },
    {
      "cell_type": "code",
      "execution_count": null,
      "metadata": {
        "colab": {
          "base_uri": "https://localhost:8080/",
          "height": 851
        },
        "id": "Bcy0ew2Ys4tx",
        "outputId": "b1192c3d-882b-4e88-9d2f-c4ba7aa30065"
      },
      "outputs": [
        {
          "output_type": "display_data",
          "data": {
            "text/plain": [
              "<Figure size 432x288 with 1 Axes>"
            ],
            "image/png": "[encoded data removed]"
          },
          "metadata": {
            "needs_background": "light"
          }
        },
        {
          "output_type": "display_data",
          "data": {
            "text/plain": [
              "<Figure size 432x288 with 1 Axes>"
            ],
            "image/png": "[encoded data removed]"
          },
          "metadata": {
            "needs_background": "light"
          }
        },
        {
          "output_type": "display_data",
          "data": {
            "text/plain": [
              "<Figure size 432x288 with 1 Axes>"
            ],
            "image/png": "[encoded data removed]"
          },
          "metadata": {
            "needs_background": "light"
          }
        }
      ],
      "source": [
        "#-------------------------------------------------------------------------------\n",
        "#Plot train and test binary loss\n",
        "#-------------------------------------------------------------------------------\n",
        "plt.plot(VAE.history['loss'])\n",
        "plt.plot(VAE.history['val_loss'])\n",
        "plt.title('Train and Test Binary Loss')\n",
        "plt.ylabel('Loss')\n",
        "plt.xlabel('epoch')\n",
        "plt.legend(['Train', 'Test'], loc='upper right')\n",
        "plt.show()\n",
        "\n",
        "#-------------------------------------------------------------------------------\n",
        "#Plot train and test KL loss\n",
        "#-------------------------------------------------------------------------------\n",
        "plt.plot(VAE.history['kl_loss'])\n",
        "plt.plot(VAE.history['val_kl_loss'])\n",
        "plt.title('Train and Test Model KL loss')\n",
        "plt.ylabel(' KL loss')\n",
        "plt.xlabel('epoch')\n",
        "plt.legend(['Train', 'Test'], loc='upper right')\n",
        "plt.show()\n",
        "\n",
        "#-------------------------------------------------------------------------------\n",
        "#Plot train and test MSE loss\n",
        "#-------------------------------------------------------------------------------\n",
        "plt.plot(VAE.history['mse_loss'])\n",
        "plt.plot(VAE.history['val_mse_loss'])\n",
        "plt.title('Train and Test MSE Loss')\n",
        "plt.ylabel('mse loss')\n",
        "plt.xlabel('epoch')\n",
        "plt.legend(['Train', 'Test'], loc='upper right')\n",
        "plt.show()"
      ]
    },
    {
      "cell_type": "markdown",
      "metadata": {
        "id": "IlO8VPDuX4u-"
      },
      "source": [
        "***Result***\n",
        "\n",
        "The variational model is run for 500 epochs with a learning rate of 1e-3 and a batch size of 50. It took about 4 minutes to complete the task. The images formed are shakier when compared to the originals. The KL and MSE losses, as well as the binary cross-entropy loss, have all been calculated. The KL loss quantifies the difference between the probability distributions. For the test data, the KL loss of VAE ranges between 1 and 0.7, but the training set KL loss at the first epoch drops from 2 to 0.7. After the first epoch, it continues to vary between 1 and 0.7. MSE loss and binary cross-entropy loss have a pattern that is very similar. Both of these losses drop dramatically from 40 to 3 during the first epoch of training data, then remain constant for the rest of the epochs. While testing data, the loss begins at 18 and decreases to 4 after 1 epoch before remaining steady.\n"
      ]
    },
    {
      "cell_type": "markdown",
      "metadata": {
        "id": "Z8j1__I5ONw4"
      },
      "source": [
        "# ***Generative Adversarial Networks***"
      ]
    },
    {
      "cell_type": "markdown",
      "metadata": {
        "id": "EXaG4W2g8ow_"
      },
      "source": [
        "GANs (Generative Adversarial Networks) are a type of unsupervised learning neural network.GAN is utilized to generate new data. GAN is made up of two parts. \n",
        "1. Generator : Generator, generates new data instances\n",
        "2. Discriminator : Discrimator, evaluates the instances generated by generator and decides whether the data belongs to the original training data or not. \n",
        "\n",
        "GAN works using a latent step called z_dim. In GAN, we create a new example named x_fake by mapping from the latent space to the generator. The GAN generator performs the same function as the Autoencoder and Varitional Autoencoder decoders. The discriminator is then given this fake image data, which must discriminate between the real data (x_real) from the training set and the created fake data. It provides a classification as a result.\n",
        "\n",
        "***Code Reference : Lecture Notes***"
      ]
    },
    {
      "cell_type": "code",
      "execution_count": null,
      "metadata": {
        "id": "amo-frjY8m5K"
      },
      "outputs": [],
      "source": [
        "from keras.datasets import mnist\n",
        "from tensorflow.keras.layers import Input, Dense, BatchNormalization\n",
        "from keras.layers.advanced_activations import LeakyReLU\n",
        "from keras.models import Sequential, Model\n",
        "from keras.optimizers import adam_v2 # API change versus older versions\n",
        "import matplotlib.pyplot as plt\n",
        "import numpy as np"
      ]
    },
    {
      "cell_type": "code",
      "execution_count": null,
      "metadata": {
        "id": "DRxVp3Qe8vq9"
      },
      "outputs": [],
      "source": [
        "#-------------------------------------------------------------------------------\n",
        "#initialize dimensions\n",
        "#-------------------------------------------------------------------------------\n",
        "img_shape = (24 * 24)\n",
        "z_dim = 32"
      ]
    },
    {
      "cell_type": "code",
      "execution_count": null,
      "metadata": {
        "colab": {
          "base_uri": "https://localhost:8080/"
        },
        "id": "S5DXsQwq9Us6",
        "outputId": "20226000-a97f-47b4-9422-b6c3c80bc438"
      },
      "outputs": [
        {
          "output_type": "stream",
          "name": "stdout",
          "text": [
            "Model: \"encoder\"\n",
            "_________________________________________________________________\n",
            " Layer (type)                Output Shape              Param #   \n",
            "=================================================================\n",
            " Generator (InputLayer)      [(None, 32)]              0         \n",
            "                                                                 \n",
            " layer_1 (Dense)             (None, 64)                2112      \n",
            "                                                                 \n",
            " layer_2 (Dense)             (None, 128)               8320      \n",
            "                                                                 \n",
            " dense (Dense)               (None, 576)               74304     \n",
            "                                                                 \n",
            "=================================================================\n",
            "Total params: 84,736\n",
            "Trainable params: 84,736\n",
            "Non-trainable params: 0\n",
            "_________________________________________________________________\n"
          ]
        }
      ],
      "source": [
        "#-------------------------------------------------------------------------------\n",
        "# Define generator model (like AE decoder)\n",
        "# z -> hidden layer -> image\n",
        "#-------------------------------------------------------------------------------\n",
        "#G = Sequential()\n",
        "\n",
        "Gen = Input(shape=(z_dim,),name = \"Generator\")\n",
        "layer_1 = Dense(64,activation = \"LeakyReLU\",name = \"layer_1\")(Gen)\n",
        "layer_2 = Dense(128,activation = \"LeakyReLU\",name = \"layer_2\")(layer_1)\n",
        "layer_3 = Dense(np.prod(img_shape),activation = \"sigmoid\")(layer_2)\n",
        "layer_var = tf.keras.Model(inputs=Gen, outputs=layer_3, name=\"encoder\")\n",
        "#G.add(Input(shape=(z_dim,)))\n",
        "#G.add(Dense(64))\n",
        "#G.add(LeakyReLU(alpha=0.2))\n",
        "\n",
        "#G.add(Dense(128))\n",
        "#G.add(LeakyReLU(alpha=0.2))\n",
        "\n",
        "\n",
        "#G.add(Dense(np.prod(img_shape), activation=\"sigmoid\"))\n",
        "layer_var.summary()\n",
        "\n"
      ]
    },
    {
      "cell_type": "code",
      "execution_count": null,
      "metadata": {
        "colab": {
          "base_uri": "https://localhost:8080/"
        },
        "id": "8xReuezI9keD",
        "outputId": "44f01b52-e897-4d1e-ef0c-ec22e1856419"
      },
      "outputs": [
        {
          "output_type": "stream",
          "name": "stdout",
          "text": [
            "Model: \"decoder\"\n",
            "_________________________________________________________________\n",
            " Layer (type)                Output Shape              Param #   \n",
            "=================================================================\n",
            " Discriminator (InputLayer)  [(None, 576)]             0         \n",
            "                                                                 \n",
            " dense_1 (Dense)             (None, 128)               73856     \n",
            "                                                                 \n",
            " dense_2 (Dense)             (None, 64)                8256      \n",
            "                                                                 \n",
            " dense_3 (Dense)             (None, 1)                 65        \n",
            "                                                                 \n",
            "=================================================================\n",
            "Total params: 82,177\n",
            "Trainable params: 82,177\n",
            "Non-trainable params: 0\n",
            "_________________________________________________________________\n"
          ]
        }
      ],
      "source": [
        "#-------------------------------------------------------------------------------\n",
        "# Define discriminator model\n",
        "# image -> hidden layer -> class 0 or 1 (real or fake; note, not digits)\n",
        "#-------------------------------------------------------------------------------\n",
        "#D = Sequential()\n",
        "#D.add(Input(shape=(img_shape)))\n",
        "#D.add(Dense(128))\n",
        "#D.add(LeakyReLU(alpha=0.2))\n",
        "#D.add(Dense(64))\n",
        "\n",
        "#D.add(Dense(1, activation='sigmoid')) # binary classification\n",
        "#D.summary()\n",
        "# Adam with relatively low learning rate and beta_1 (momentum decay)\n",
        "#D.compile(loss='binary_crossentropy', optimizer=adam_v2.Adam(0.0002, 0.5),\n",
        "#          metrics=['accuracy'])\n",
        "\n",
        "Dis = tf.keras.Input(shape=(img_shape), name=\"Discriminator\")\n",
        "layer_1 = Dense(128, activation=\"LeakyReLU\")(Dis)\n",
        "layer_2 = Dense(64, activation=\"LeakyReLU\")(layer_1)\n",
        "output = Dense(1, activation=\"sigmoid\")(layer_2)\n",
        "Discriminator = tf.keras.Model(inputs=Dis, outputs=output, name=\"decoder\")\n",
        "\n",
        "Discriminator.summary()\n",
        "\n",
        "Discriminator.compile(loss='binary_crossentropy', optimizer=adam_v2.Adam(0.0002, 0.5),\n",
        "          metrics=['accuracy'])"
      ]
    },
    {
      "cell_type": "code",
      "execution_count": null,
      "metadata": {
        "colab": {
          "base_uri": "https://localhost:8080/"
        },
        "id": "3TM4nyBs9taJ",
        "outputId": "af8018b3-83f0-4a6e-d52c-1899837e3037"
      },
      "outputs": [
        {
          "output_type": "stream",
          "name": "stdout",
          "text": [
            "Model: \"model\"\n",
            "_________________________________________________________________\n",
            " Layer (type)                Output Shape              Param #   \n",
            "=================================================================\n",
            " input_1 (InputLayer)        [(None, 32)]              0         \n",
            "                                                                 \n",
            " encoder (Functional)        (None, 576)               84736     \n",
            "                                                                 \n",
            " decoder (Functional)        (None, 1)                 82177     \n",
            "                                                                 \n",
            "=================================================================\n",
            "Total params: 166,913\n",
            "Trainable params: 84,736\n",
            "Non-trainable params: 82,177\n",
            "_________________________________________________________________\n"
          ]
        }
      ],
      "source": [
        "#-------------------------------------------------------------------------------\n",
        "# Set discriminator not trainable, create GAN and optimizer for GAN\n",
        "# which will train generator only, and compile\n",
        "#-------------------------------------------------------------------------------\n",
        "Discriminator.trainable = False\n",
        "z = Input(shape=(z_dim,))\n",
        "GAN = Model(z, Discriminator(layer_var(z)))\n",
        "GAN.compile(loss='binary_crossentropy', optimizer=adam_v2.Adam(0.001, 0.5),\n",
        "          metrics=['accuracy'])\n",
        "GAN.summary()"
      ]
    },
    {
      "cell_type": "code",
      "execution_count": null,
      "metadata": {
        "id": "vD2taDRR9xIY"
      },
      "outputs": [],
      "source": [
        "#-------------------------------------------------------------------------------\n",
        "#assigning labels\n",
        "#-------------------------------------------------------------------------------\n",
        "batch_size=50\n",
        "epochs = 1500\n",
        "steps = epochs * np.array(x_train_normalized).shape[0] // batch_size\n",
        "sample_interval=100\n",
        "# fake -> 1, real -> 0\n",
        "y_fake = np.ones((batch_size, 1))\n",
        "y_real = np.zeros((batch_size, 1))"
      ]
    },
    {
      "cell_type": "code",
      "execution_count": null,
      "metadata": {
        "id": "qdIF3s-C975q"
      },
      "outputs": [],
      "source": [
        "def sample_images(epoch):\n",
        "    # save an image to see some of our fake images\n",
        "    r, c = 3, 3\n",
        "    z = np.random.normal(0, 1, (r * c, z_dim))\n",
        "    x_fake = layer_var.predict(z)\n",
        "\n",
        "    #fig, axs = plt.subplots(r, c)\n",
        "    #for i in range(r):\n",
        "    #    for j in range(c):\n",
        "    #        axs[i, j].imshow(x_fake[i*r+j].reshape((24, 24)))\n",
        "    #        axs[i, j].axis('off')\n",
        "    #print(\"saving\")\n",
        "    #plt.tight_layout()\n",
        "    #plt.savefig(\"crytoimage.png\")\n",
        "    #plt.show()"
      ]
    },
    {
      "cell_type": "code",
      "execution_count": null,
      "metadata": {
        "id": "K9GQTJkd9_Ou"
      },
      "outputs": [],
      "source": [
        "for step in range(steps):\n",
        "\n",
        "    # choose real images, x_real, and make fake images, x_fake\n",
        "    idx = np.random.randint(0, np.array(x_train_normalized).shape[0], batch_size)\n",
        "    x_real = x_train_normalized[idx]\n",
        "    z = np.random.normal(0, 1, (batch_size, z_dim))\n",
        "    x_fake = layer_var.predict(z)\n",
        "\n",
        "    # train D\n",
        "    loss_d_real = Discriminator.train_on_batch(x_real, y_real)\n",
        "    loss_d_fake = Discriminator.train_on_batch(x_fake, y_fake)\n",
        "    loss_d = 0.5 * np.add(loss_d_real, loss_d_fake)\n",
        "\n",
        "    # train G, by training GAN\n",
        "    # pass y_real, ie pretend these images are real\n",
        "    loss_g = GAN.train_on_batch(z, y_real)\n",
        "\n",
        "    # notice loss_d and loss_g are each really (loss, accuracy),\n",
        "    # because we requested accuracy as a metric.\n",
        "    print(f\"{step:4d}/{steps} [D {loss_d[0]:.2f}, acc. (on x_real and x_fake) {100 * loss_d[1]:3.0f}] [G {loss_g[0]:.2f}, acc. (on x_fake) {100 * loss_g[1]:3.0f}]\")\n",
        "    if step % sample_interval == 0 or step == steps - 1:\n",
        "        sample_images(step)"
      ]
    },
    {
      "cell_type": "markdown",
      "source": [
        "***Result***\n",
        "\n",
        "GAN model was run at a batch size of 50 with 15000 epochs. The step size calculated is 60000 which took almost 1 hr 50 min to complete its execution. Even after 60000 step size the images generated are not very much clear."
      ],
      "metadata": {
        "id": "X8KrvLu8KKSu"
      }
    },
    {
      "cell_type": "markdown",
      "metadata": {
        "id": "L4q1jujVloJc"
      },
      "source": [
        "# **Section 3**"
      ]
    },
    {
      "cell_type": "markdown",
      "metadata": {
        "id": "Mfb9iey6ltHC"
      },
      "source": [
        "***Autoencoder images***"
      ]
    },
    {
      "cell_type": "code",
      "execution_count": null,
      "metadata": {
        "colab": {
          "base_uri": "https://localhost:8080/",
          "height": 575
        },
        "id": "JVtsNq4Rly_Y",
        "outputId": "eee66d5c-d5bf-499c-fad7-2c57d052d51a"
      },
      "outputs": [
        {
          "output_type": "display_data",
          "data": {
            "text/plain": [
              "<Figure size 720x720 with 9 Axes>"
            ],
            "image/png": "[encoded data removed]"
          },
          "metadata": {
            "needs_background": "light"
          }
        }
      ],
      "source": [
        "#-------------------------------------------------------------------------------\n",
        "#reconstructed images of decoder on test data of auto encoder\n",
        "#-------------------------------------------------------------------------------\n",
        "\n",
        "x_test_model_autoencoder = autoencoder.predict(x_test_normalized)\n",
        "final_autoencoder = np.reshape(x_test_model_autoencoder, (len(x_test_model_autoencoder), 24, 24))\n",
        "\n",
        "plt.figure(figsize=(10,10)) # specifying the overall grid size\n",
        "\n",
        "for i in range(9):\n",
        "    plt.subplot(3,3,i+1)    # the number of images in the grid is 3*3 (9)\n",
        "    plt.imshow(final_autoencoder[i])\n",
        "    plt.axis(\"off\")\n",
        "\n",
        "plt.show()"
      ]
    },
    {
      "cell_type": "markdown",
      "metadata": {
        "id": "Us6Mk7_wl5AT"
      },
      "source": [
        "***Varitional Autoencoder Images***"
      ]
    },
    {
      "cell_type": "code",
      "execution_count": null,
      "metadata": {
        "colab": {
          "base_uri": "https://localhost:8080/",
          "height": 575
        },
        "id": "8aJBT7jVmAdt",
        "outputId": "6f2639cb-d297-4736-e9d6-43b731e34e5a"
      },
      "outputs": [
        {
          "output_type": "display_data",
          "data": {
            "text/plain": [
              "<Figure size 720x720 with 9 Axes>"
            ],
            "image/png": "[encoded data removed]"
          },
          "metadata": {
            "needs_background": "light"
          }
        }
      ],
      "source": [
        "#-------------------------------------------------------------------------------\n",
        "#reconstructed images from decoder of VAE\n",
        "#-------------------------------------------------------------------------------\n",
        "x_test_model_vae = vae.predict(x_test_normalized)\n",
        "\n",
        "final_vae = np.reshape(x_test_model_vae, (len(x_test_model_vae), 24, 24))\n",
        "\n",
        "plt.figure(figsize=(10,10)) # specifying the overall grid size\n",
        "\n",
        "for i in range(9):\n",
        "    plt.subplot(3,3,i+1)    # the number of images in the grid is 3*3 (9)\n",
        "    plt.imshow(final_vae[i])\n",
        "    plt.axis(\"off\")\n",
        "\n",
        "plt.show()\n"
      ]
    },
    {
      "cell_type": "markdown",
      "metadata": {
        "id": "CuXKS0NfmN_w"
      },
      "source": [
        "***Generative Adversial Network***"
      ]
    },
    {
      "cell_type": "code",
      "execution_count": null,
      "metadata": {
        "colab": {
          "base_uri": "https://localhost:8080/",
          "height": 575
        },
        "id": "GguwyuJomT0L",
        "outputId": "0108bb2c-293b-4a51-a67b-e9150c6eaaa4"
      },
      "outputs": [
        {
          "output_type": "display_data",
          "data": {
            "text/plain": [
              "<Figure size 720x720 with 9 Axes>"
            ],
            "image/png": "[encoded data removed]"
          },
          "metadata": {
            "needs_background": "light"
          }
        }
      ],
      "source": [
        "#-------------------------------------------------------------------------------\n",
        "#Display Image\n",
        "#-------------------------------------------------------------------------------\n",
        "\n",
        "x_test_normalized = np.reshape(x_fake, (len(x_fake), 24, 24))\n",
        "\n",
        "\n",
        "plt.figure(figsize=(10,10)) # specifying the overall grid size\n",
        "\n",
        "for i in range(9):\n",
        "    plt.subplot(3,3,i+1)    # the number of images in the grid is 3*3 (9)\n",
        "    plt.imshow(x_test_normalized[i])\n",
        "    plt.axis(\"off\")\n",
        "\n",
        "plt.show()"
      ]
    },
    {
      "cell_type": "markdown",
      "metadata": {
        "id": "lj3luvvy2WzV"
      },
      "source": [
        "***Comparison***\n",
        "\n",
        "As can be seen, the autoencoder experiences less loss than the variational autoencoder and GAN. In terms of image quality, the autoencoder outperforms the other two methods by a wide margin. However, there is a disadvantage to using an auto-encoder. The autoencoder compresses and reconstructs the input, resulting in an image that is nearly identical to the original. The generative image, on the other hand, is used to create new images from existing ones. Because AE does not add any generative input, it cannot be considered the ideal method for creating images, despite the fact that its images are clearer than the other two. The images created by GAN are little hazy. When compared to VAE images, the images generated by GAN are clearer. But, the time taken for generation of these images by GAN is much more longer then that of VAE."
      ]
    }
  ],
  "metadata": {
    "accelerator": "GPU",
    "colab": {
      "collapsed_sections": [],
      "name": "Image_Generation.ipynb",
      "provenance": []
    },
    "kernelspec": {
      "display_name": "Python 3",
      "name": "python3"
    },
    "language_info": {
      "name": "python"
    }
  },
  "nbformat": 4,
  "nbformat_minor": 0
}